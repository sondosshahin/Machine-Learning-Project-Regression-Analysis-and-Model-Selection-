{
 "cells": [
  {
   "cell_type": "code",
   "execution_count": 5,
   "id": "3628b854-c4ca-4844-8ad6-066d14ea104d",
   "metadata": {},
   "outputs": [
    {
     "name": "stdout",
     "output_type": "stream",
     "text": [
      "0       150.0\n",
      "1         8.0\n",
      "2         4.0\n",
      "3         7.0\n",
      "4         5.0\n",
      "        ...  \n",
      "6303      5.0\n",
      "6304      NaN\n",
      "6305      4.0\n",
      "6306      2.0\n",
      "6307      5.0\n",
      "Name: seats, Length: 6308, dtype: float64\n",
      "0       25\n",
      "1       62\n",
      "2       74\n",
      "3       26\n",
      "4       33\n",
      "        ..\n",
      "6303     7\n",
      "6304    24\n",
      "6305    67\n",
      "6306    45\n",
      "6307     7\n",
      "Name: brand, Length: 6308, dtype: int32\n",
      "0       2\n",
      "1       2\n",
      "2       2\n",
      "3       2\n",
      "4       2\n",
      "       ..\n",
      "6303    6\n",
      "6304    6\n",
      "6305    6\n",
      "6306    6\n",
      "6307    6\n",
      "Name: country, Length: 6308, dtype: int32\n",
      "Document Missing Values: Check for missing values and document their frequency and distribution across features\n",
      "\n",
      "                 Missing Values Count  Missing Values Percentage\n",
      "car name                            0                   0.000000\n",
      "price                               0                   0.000000\n",
      "engine_capacity                     0                   0.000000\n",
      "cylinder                          624                   9.892200\n",
      "horse_power                         0                   0.000000\n",
      "top_speed                          43                   0.681674\n",
      "seats                             116                   1.838935\n",
      "brand                               0                   0.000000\n",
      "country                             0                   0.000000\n"
     ]
    }
   ],
   "source": [
    "import pandas as pd\n",
    "import matplotlib.pyplot as plt\n",
    "import seaborn as sns\n",
    "import folium\n",
    "from sklearn.model_selection import train_test_split\n",
    "from sklearn.preprocessing import LabelEncoder\n",
    "\n",
    "missing_values = [\" \", \"NA\", \"N/A\", \"N A\", \"NaN\"]\n",
    "data = pd.read_csv(\"cars.csv\", na_values=missing_values)\n",
    "\n",
    "# Use regex to keep only the integer part in the 'seats' column\n",
    "data['seats'] = data['seats'].astype(str).str.extract(r'(\\d+)')[0]\n",
    "# Convert the 'seats' column to numeric type, handling any non-numeric values as NaN\n",
    "data['seats'] = pd.to_numeric(data['seats'], errors='coerce')\n",
    "print(data['seats'])\n",
    "\n",
    "\n",
    "#encode categorical features\n",
    "label_encoder = LabelEncoder()    # Initialize the LabelEncoder\n",
    "categorical_features = ['brand', 'country']\n",
    "for column in categorical_features:\n",
    "    # Fit the LabelEncoder and transform the column\n",
    "    data[column] = label_encoder.fit_transform(data[column])\n",
    "    print(data[column])\n",
    "\n",
    "print(\"Document Missing Values: Check for missing values and document their frequency and distribution across features\\n\")\n",
    "\n",
    "missing_values_count = data.isnull().sum()\n",
    "missing_values_percentage = (missing_values_count / len(data)) * 100\n",
    "missing_values_table = pd.DataFrame({\n",
    " 'Missing Values Count': missing_values_count,\n",
    " 'Missing Values Percentage': missing_values_percentage\n",
    " })\n",
    "print(missing_values_table)\n",
    "\n",
    "print(df_upd)"
   ]
  },
  {
   "cell_type": "code",
   "execution_count": 15,
   "id": "50aac386-0d6a-4b84-9d92-67d60bfba760",
   "metadata": {},
   "outputs": [
    {
     "name": "stdout",
     "output_type": "stream",
     "text": [
      "Training set size: (3784, 8) (3784,)\n",
      "Validation set size: (1262, 8) (1262,)\n",
      "Test set size: (1262, 8) (1262,)\n"
     ]
    }
   ],
   "source": [
    "# Separate features and target label\n",
    "X = data.drop(columns='price')  # price is the target column\n",
    "y = data['price']\n",
    "\n",
    "# First, split the data into 80% training+validation and 20% testing\n",
    "X_train_val, X_test, y_train_val, y_test = train_test_split(X, y, test_size=0.2, random_state=42)\n",
    "\n",
    "# Then, split the 80% training+validation into 60% training and 20% validation\n",
    "X_train, X_val, y_train, y_val = train_test_split(X_train_val, y_train_val, test_size=0.25, random_state=42)\n",
    "\n",
    "\n",
    "# Print the sizes of each split\n",
    "print(\"Training set size:\", X_train.shape, y_train.shape)\n",
    "print(\"Validation set size:\", X_val.shape, y_val.shape)\n",
    "print(\"Test set size:\", X_test.shape, y_test.shape)\n"
   ]
  },
  {
   "cell_type": "code",
   "execution_count": null,
   "id": "c48df621-16a3-421f-b768-e47ba5e2aed5",
   "metadata": {},
   "outputs": [],
   "source": [
    "from sklearn.linear_model import LinearRegression\n",
    "\n",
    "model = LinearRegression()\n",
    "model.fit(X_train, y_train)\n",
    "predictions = model.predict(X_test)\n"
   ]
  },
  {
   "cell_type": "code",
   "execution_count": null,
   "id": "c61e438c-6de2-42fa-a490-bca0c30d8068",
   "metadata": {},
   "outputs": [],
   "source": []
  }
 ],
 "metadata": {
  "kernelspec": {
   "display_name": "Python 3 (ipykernel)",
   "language": "python",
   "name": "python3"
  },
  "language_info": {
   "codemirror_mode": {
    "name": "ipython",
    "version": 3
   },
   "file_extension": ".py",
   "mimetype": "text/x-python",
   "name": "python",
   "nbconvert_exporter": "python",
   "pygments_lexer": "ipython3",
   "version": "3.10.12"
  }
 },
 "nbformat": 4,
 "nbformat_minor": 5
}
