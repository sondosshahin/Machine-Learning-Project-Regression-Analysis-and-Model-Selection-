{
 "cells": [
  {
   "cell_type": "code",
   "execution_count": 3,
   "id": "3628b854-c4ca-4844-8ad6-066d14ea104d",
   "metadata": {},
   "outputs": [
    {
     "name": "stdout",
     "output_type": "stream",
     "text": [
      "Document Missing Values: Check for missing values and document their frequency and distribution across features\n",
      "\n",
      "                 Missing Values Count  Missing Values Percentage\n",
      "car name                            0                     0.0000\n",
      "price                               0                     0.0000\n",
      "engine_capacity                     0                     0.0000\n",
      "cylinder                          624                     9.8922\n",
      "horse_power                         0                     0.0000\n",
      "top_speed                           0                     0.0000\n",
      "seats                               0                     0.0000\n",
      "brand                               0                     0.0000\n",
      "country                             0                     0.0000\n"
     ]
    }
   ],
   "source": [
    " import pandas as pd\n",
    " import matplotlib.pyplot as plt\n",
    " import seaborn as sns\n",
    " import folium\n",
    "\n",
    " print(\"Document Missing Values: Check for missing values and document their frequency and distribution across features\\n\")\n",
    " missing_values = [\"n/a\", \"na\", \"--\", \" \"]\n",
    " df = pd.read_csv(\"cars.csv\", na_values=missing_values)\n",
    " missing_values_count = df.isnull().sum()\n",
    " missing_values_percentage = (missing_values_count / len(df)) * 100\n",
    " missing_values_table = pd.DataFrame({\n",
    " 'Missing Values Count': missing_values_count,\n",
    " 'Missing Values Percentage': missing_values_percentage\n",
    " })\n",
    " print(missing_values_table)"
   ]
  },
  {
   "cell_type": "code",
   "execution_count": null,
   "id": "50aac386-0d6a-4b84-9d92-67d60bfba760",
   "metadata": {},
   "outputs": [],
   "source": []
  }
 ],
 "metadata": {
  "kernelspec": {
   "display_name": "Python 3 (ipykernel)",
   "language": "python",
   "name": "python3"
  },
  "language_info": {
   "codemirror_mode": {
    "name": "ipython",
    "version": 3
   },
   "file_extension": ".py",
   "mimetype": "text/x-python",
   "name": "python",
   "nbconvert_exporter": "python",
   "pygments_lexer": "ipython3",
   "version": "3.12.4"
  }
 },
 "nbformat": 4,
 "nbformat_minor": 5
}
